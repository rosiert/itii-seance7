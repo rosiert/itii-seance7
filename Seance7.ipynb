{
 "cells": [
  {
   "cell_type": "markdown",
   "metadata": {},
   "source": [
    "En utilisant numpy:"
   ]
  },
  {
   "cell_type": "markdown",
   "metadata": {},
   "source": [
    "Ex 1 :Addition\n",
    "Écrire un programme pour lire les éléments de deux matrices et ajoutez les deux matrices dans la troisième.\n",
    "\n",
    "La somme de deux matrices de taille (m,n), $(A_{ij}) et (B_{ij}) notée $A+B$  est à nouveau une matrice (C_{ij}) de taille (m,n), obtenue en additionnant les éléments correspondants: $c_{ij}=a_{ij}+b_{ij}$\n"
   ]
  },
  {
   "cell_type": "code",
   "execution_count": 3,
   "metadata": {
    "scrolled": true
   },
   "outputs": [
    {
     "name": "stdout",
     "output_type": "stream",
     "text": [
      "A :  [[4, -1, 2], [1, 2, 3], [1, 1, -1]]\n",
      "B :  [[-3, -1, 3], [2, 2, 2], [-9, 7, 9]]\n",
      "A + B :  [[1, -2, 5], [3, 4, 5], [-8, 8, 8]]\n"
     ]
    }
   ],
   "source": [
    "A = [ [4, -1, 2], [1, 2, 3], [1, 1, -1] ]\n",
    "B = [ [-3, -1, 3], [2, 2, 2], [-9, 7, 9] ]\n",
    " \n",
    "n=len(A) # nombre de lignes\n",
    "m=len(A[0]) # nombre de colonnes\n",
    " \n",
    "C = [[0]*m for i in range(n)] # matrice de b lignes et m colonnes\n",
    " \n",
    "for i in range(n):\n",
    "    for j in range(m):\n",
    "        C[i][j]= A[i][j] + B[i][j]\n",
    " \n",
    "print(\"A : \", A)\n",
    "print(\"B : \", B)\n",
    "print(\"A + B : \", C)      "
   ]
  },
  {
   "cell_type": "markdown",
   "metadata": {},
   "source": [
    "Ex2 :Multiplication\n",
    "Écrire un programme pour lire les éléments de deux matrices, puis multipliez les deux matrices dans la troisième.\n",
    "\n",
    "Deux matrices ne peuvent être multipliées que si le nombre de colonnes de la première matrice est le même que le nombre de lignes de la seconde matrice.\n",
    "\n",
    "Si $ A=(a_{ij})$ est une matrice de taille (m,n), $ B=(b_{ij})$ et est une matrice de taille (n,p), alors leur produit, noté $AB=(c_{ij})$ est une matrice de taille (m,p) définie par :\n",
    "$$\\forall i,j : c_{ij}=\\sum_{k=i}^{n} a_{ik}*b_{kj}$$"
   ]
  },
  {
   "cell_type": "code",
   "execution_count": 14,
   "metadata": {},
   "outputs": [
    {
     "name": "stdout",
     "output_type": "stream",
     "text": [
      "A : \n",
      " [[ 4 -1  2]\n",
      " [ 1  2  3]\n",
      " [ 1  1 -1]]\n",
      "B : \n",
      " [[-3 -1  3]\n",
      " [ 2  2  2]\n",
      " [-9  7  9]]\n",
      "A * B : \n",
      " [[-32   8  28]\n",
      " [-26  24  34]\n",
      " [  8  -6  -4]]\n"
     ]
    }
   ],
   "source": [
    "import numpy as np\n",
    "\n",
    "A = np.array([ [4, -1, 2], [1, 2, 3], [1, 1, -1] ])\n",
    "B = np.array([ [-3, -1, 3], [2, 2, 2], [-9, 7, 9] ])\n",
    " \n",
    "C = A.dot(B)\n",
    " \n",
    "print(\"A : \\n\", A)\n",
    "print(\"B : \\n\", B)\n",
    "print(\"A * B : \\n\", C)"
   ]
  },
  {
   "cell_type": "markdown",
   "metadata": {},
   "source": [
    "Ex 3: Matrice de Markov\n",
    "\n",
    "Une matrice de Markov est une matrice carrée dont chaque élément est un réel compris entre 0 et 1 et dont la somme des éléments de chaque ligne vaut 1. Cela correspond, en probabilité, à la matrice de transition d'une chaîne de Markov finie.\n",
    "\n",
    "Une matrice est dite bistochastique (ou doublement stochastique) si la somme des éléments de chaque ligne et de chaque colonne vaut 1.\n",
    "\n",
    "1. Ecrire une fonction eststochastique(P) qui permet de vérifier est ce que la matrice P est stochastique ou non\n",
    "2. Ecrire une fonction estbistochastique(P) qui permet de vérifier est ce que la matrice P est bistochastique ou non\n",
    "3. Ecrire une fonction vecteurstable(G, h) qui permet de vérifier est ce que h est un vecteur stable de G ou non\n",
    "\n"
   ]
  },
  {
   "cell_type": "code",
   "execution_count": 16,
   "metadata": {},
   "outputs": [
    {
     "name": "stdout",
     "output_type": "stream",
     "text": [
      "La matrice P est stochastique \n",
      "\n",
      "La matrice P est Bistochastique \n",
      "\n"
     ]
    }
   ],
   "source": [
    "P = [ [1, 0, 0], [0, 1, 0], [0, 0, 1] ]\n",
    "\n",
    "n=len(P)\n",
    "m=m1=m2=0\n",
    "l=l1=l2=0\n",
    "\n",
    "for i in range(n):\n",
    "    m=m+P[0][i]\n",
    "    m1=m1+P[1][i]\n",
    "    m2=m2+P[2][i]\n",
    "    l=l+P[i][0]\n",
    "    l1=l1+P[i][1]\n",
    "    l2=l2+P[i][2]\n",
    "\n",
    "if m==1 and m1==1 and m2==1:\n",
    "    print(\"La matrice P est stochastique \\n\")\n",
    "    if l==1 and l1==1 and l2==1:\n",
    "        print(\"La matrice P est Bistochastique \\n\")\n",
    "else :\n",
    "    print(\"La matrice est normale\")"
   ]
  },
  {
   "cell_type": "markdown",
   "metadata": {},
   "source": [
    "Ex 4: Transposer\n",
    "\n",
    "Programmer une fonction qui, étant donné une matrice à deux dimensions A, retourne lamatrice B dont la première colonne est la première ligne de A, la seconde la deuxième ligne de A, etc. B s’appelle la transposée de A."
   ]
  },
  {
   "cell_type": "code",
   "execution_count": 19,
   "metadata": {},
   "outputs": [
    {
     "name": "stdout",
     "output_type": "stream",
     "text": [
      "A : \n",
      " [[3 1]\n",
      " [9 8]]\n",
      "Transposée de A : \n",
      " [[3 9]\n",
      " [1 8]]\n"
     ]
    }
   ],
   "source": [
    "A = np.array([ [3, 1], [9, 8] ])\n",
    " \n",
    "C = A.transpose()\n",
    " \n",
    "print(\"A : \\n\", A)\n",
    "print(\"Transposée de A : \\n\", C)"
   ]
  },
  {
   "cell_type": "markdown",
   "metadata": {},
   "source": [
    "Ex 5: Permutations\n",
    "1. $M$ désignant une matrice quelconque d’entiers à $l_i$ lignes et $co$ colonnes, $n$ un entier quelconque, programmer une fonction qui retourne la matrice $Sortie$ qui empile verticalement les $co+1$ matrices obtenues en adjoignant à $M$ une colonne $A$ à $li$ lignes dont tousles éléments sont égaux à $n$, $A$ étant placée d’abord devant $M$, puis entre la première et deuxième colonne de $M^a$,etc, jusqu’à ce que $A$ devienne sa dernière colonne. La matriceobtenue  aura $co+1$ colonnes et $(n+1)$ $li$ lignes\n",
    "\n",
    "2. Écrire toutes les permutations de(1, ..., n)"
   ]
  }
 ],
 "metadata": {
  "kernelspec": {
   "display_name": "Python 3",
   "language": "python",
   "name": "python3"
  },
  "language_info": {
   "codemirror_mode": {
    "name": "ipython",
    "version": 3
   },
   "file_extension": ".py",
   "mimetype": "text/x-python",
   "name": "python",
   "nbconvert_exporter": "python",
   "pygments_lexer": "ipython3",
   "version": "3.8.3"
  }
 },
 "nbformat": 4,
 "nbformat_minor": 4
}
